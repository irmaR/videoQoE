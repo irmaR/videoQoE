{
 "cells": [
  {
   "cell_type": "markdown",
   "metadata": {},
   "source": [
    "# Loading the data"
   ]
  },
  {
   "cell_type": "code",
   "execution_count": 2,
   "metadata": {},
   "outputs": [
    {
     "data": {
      "text/html": [
       "<div>\n",
       "<style scoped>\n",
       "    .dataframe tbody tr th:only-of-type {\n",
       "        vertical-align: middle;\n",
       "    }\n",
       "\n",
       "    .dataframe tbody tr th {\n",
       "        vertical-align: top;\n",
       "    }\n",
       "\n",
       "    .dataframe thead th {\n",
       "        text-align: right;\n",
       "    }\n",
       "</style>\n",
       "<table border=\"1\" class=\"dataframe\">\n",
       "  <thead>\n",
       "    <tr style=\"text-align: right;\">\n",
       "      <th></th>\n",
       "      <th>Osoba</th>\n",
       "      <th>God</th>\n",
       "      <th>NM_Spol</th>\n",
       "      <th>StepenObrazovanja</th>\n",
       "      <th>PrethodnoIskustvo</th>\n",
       "      <th>Naocale</th>\n",
       "      <th>Sluh</th>\n",
       "      <th>Ruka</th>\n",
       "      <th>Emocije</th>\n",
       "      <th>Lokacija</th>\n",
       "      <th>...</th>\n",
       "      <th>P4.4</th>\n",
       "      <th>P4.5</th>\n",
       "      <th>P4.6</th>\n",
       "      <th>P4.7</th>\n",
       "      <th>P4_AVG</th>\n",
       "      <th>Dan</th>\n",
       "      <th>Mjesec</th>\n",
       "      <th>Godina</th>\n",
       "      <th>Tip_dana</th>\n",
       "      <th>Dio_dana</th>\n",
       "    </tr>\n",
       "  </thead>\n",
       "  <tbody>\n",
       "    <tr>\n",
       "      <td>0</td>\n",
       "      <td>1</td>\n",
       "      <td>48</td>\n",
       "      <td>1</td>\n",
       "      <td>3</td>\n",
       "      <td>4</td>\n",
       "      <td>1</td>\n",
       "      <td>2</td>\n",
       "      <td>2</td>\n",
       "      <td>1</td>\n",
       "      <td>1</td>\n",
       "      <td>...</td>\n",
       "      <td>4</td>\n",
       "      <td>4</td>\n",
       "      <td>5</td>\n",
       "      <td>5.0</td>\n",
       "      <td>4.571429</td>\n",
       "      <td>4</td>\n",
       "      <td>5</td>\n",
       "      <td>2017</td>\n",
       "      <td>weekday</td>\n",
       "      <td>evening</td>\n",
       "    </tr>\n",
       "    <tr>\n",
       "      <td>1</td>\n",
       "      <td>1</td>\n",
       "      <td>48</td>\n",
       "      <td>1</td>\n",
       "      <td>3</td>\n",
       "      <td>4</td>\n",
       "      <td>1</td>\n",
       "      <td>2</td>\n",
       "      <td>2</td>\n",
       "      <td>1</td>\n",
       "      <td>1</td>\n",
       "      <td>...</td>\n",
       "      <td>4</td>\n",
       "      <td>4</td>\n",
       "      <td>5</td>\n",
       "      <td>5.0</td>\n",
       "      <td>4.571429</td>\n",
       "      <td>4</td>\n",
       "      <td>5</td>\n",
       "      <td>2017</td>\n",
       "      <td>weekday</td>\n",
       "      <td>evening</td>\n",
       "    </tr>\n",
       "    <tr>\n",
       "      <td>2</td>\n",
       "      <td>1</td>\n",
       "      <td>48</td>\n",
       "      <td>1</td>\n",
       "      <td>3</td>\n",
       "      <td>4</td>\n",
       "      <td>1</td>\n",
       "      <td>2</td>\n",
       "      <td>2</td>\n",
       "      <td>1</td>\n",
       "      <td>1</td>\n",
       "      <td>...</td>\n",
       "      <td>4</td>\n",
       "      <td>4</td>\n",
       "      <td>5</td>\n",
       "      <td>5.0</td>\n",
       "      <td>4.571429</td>\n",
       "      <td>4</td>\n",
       "      <td>5</td>\n",
       "      <td>2017</td>\n",
       "      <td>weekday</td>\n",
       "      <td>evening</td>\n",
       "    </tr>\n",
       "    <tr>\n",
       "      <td>3</td>\n",
       "      <td>1</td>\n",
       "      <td>48</td>\n",
       "      <td>1</td>\n",
       "      <td>3</td>\n",
       "      <td>4</td>\n",
       "      <td>1</td>\n",
       "      <td>2</td>\n",
       "      <td>2</td>\n",
       "      <td>1</td>\n",
       "      <td>1</td>\n",
       "      <td>...</td>\n",
       "      <td>4</td>\n",
       "      <td>4</td>\n",
       "      <td>5</td>\n",
       "      <td>5.0</td>\n",
       "      <td>4.571429</td>\n",
       "      <td>4</td>\n",
       "      <td>5</td>\n",
       "      <td>2017</td>\n",
       "      <td>weekday</td>\n",
       "      <td>evening</td>\n",
       "    </tr>\n",
       "    <tr>\n",
       "      <td>4</td>\n",
       "      <td>1</td>\n",
       "      <td>48</td>\n",
       "      <td>1</td>\n",
       "      <td>3</td>\n",
       "      <td>4</td>\n",
       "      <td>1</td>\n",
       "      <td>2</td>\n",
       "      <td>2</td>\n",
       "      <td>1</td>\n",
       "      <td>1</td>\n",
       "      <td>...</td>\n",
       "      <td>4</td>\n",
       "      <td>4</td>\n",
       "      <td>5</td>\n",
       "      <td>5.0</td>\n",
       "      <td>4.571429</td>\n",
       "      <td>4</td>\n",
       "      <td>5</td>\n",
       "      <td>2017</td>\n",
       "      <td>weekday</td>\n",
       "      <td>evening</td>\n",
       "    </tr>\n",
       "  </tbody>\n",
       "</table>\n",
       "<p>5 rows × 44 columns</p>\n",
       "</div>"
      ],
      "text/plain": [
       "   Osoba  God  NM_Spol  StepenObrazovanja  PrethodnoIskustvo  Naocale  Sluh  \\\n",
       "0      1   48        1                  3                  4        1     2   \n",
       "1      1   48        1                  3                  4        1     2   \n",
       "2      1   48        1                  3                  4        1     2   \n",
       "3      1   48        1                  3                  4        1     2   \n",
       "4      1   48        1                  3                  4        1     2   \n",
       "\n",
       "   Ruka  Emocije  Lokacija  ...  P4.4  P4.5  P4.6  P4.7    P4_AVG  Dan  \\\n",
       "0     2        1         1  ...     4     4     5   5.0  4.571429    4   \n",
       "1     2        1         1  ...     4     4     5   5.0  4.571429    4   \n",
       "2     2        1         1  ...     4     4     5   5.0  4.571429    4   \n",
       "3     2        1         1  ...     4     4     5   5.0  4.571429    4   \n",
       "4     2        1         1  ...     4     4     5   5.0  4.571429    4   \n",
       "\n",
       "   Mjesec  Godina  Tip_dana  Dio_dana  \n",
       "0       5    2017   weekday   evening  \n",
       "1       5    2017   weekday   evening  \n",
       "2       5    2017   weekday   evening  \n",
       "3       5    2017   weekday   evening  \n",
       "4       5    2017   weekday   evening  \n",
       "\n",
       "[5 rows x 44 columns]"
      ]
     },
     "execution_count": 2,
     "metadata": {},
     "output_type": "execute_result"
    }
   ],
   "source": [
    "import pandas as pd\n",
    "import numpy as np\n",
    "import matplotlib.pyplot as plt\n",
    "df = pd.read_csv('/home/irma/Dropbox/Documents/Work/Research/Sabina_collab/Video_QoE_Modeling/processed_data/complete/Processed_Video_QoE_Modeling.csv')\n",
    "df.head()"
   ]
  },
  {
   "cell_type": "markdown",
   "metadata": {},
   "source": [
    "# Data Analysis\n"
   ]
  },
  {
   "cell_type": "markdown",
   "metadata": {},
   "source": [
    "## Age analysis"
   ]
  },
  {
   "cell_type": "code",
   "execution_count": 7,
   "metadata": {
    "scrolled": false
   },
   "outputs": [
    {
     "name": "stdout",
     "output_type": "stream",
     "text": [
      "3.2140207715133533 1.0827557117345448\n",
      "3.2221810089020773 1.068335548600532\n",
      "3.3372721492157686 0.9094967983028546\n",
      "4.297742687579484 0.824439678069673\n",
      "End group 1\n",
      "3.215 1.0819527025658424\n",
      "3.2239285714285715 1.0636406679058164\n",
      "3.341122448979591 0.9079145772466398\n",
      "4.308316326530617 0.8160361641443544\n",
      "End group 3\n",
      "3.2315227070347285 1.0754511135051381\n",
      "3.239240130602553 1.0561960122303524\n",
      "3.3442451483413196 0.9114091157193133\n",
      "4.3232483851361945 0.8015322512488273\n",
      "End group 3\n"
     ]
    },
    {
     "data": {
      "image/png": "[encoded data removed]",
      "text/plain": [
       "<Figure size 432x288 with 1 Axes>"
      ]
     },
     "metadata": {
      "needs_background": "light"
     },
     "output_type": "display_data"
    }
   ],
   "source": [
    "def agegroup(row):\n",
    "    try:\n",
    "        if (int(row.God) < 30):\n",
    "            return '<30'\n",
    "        if (int(row.God) <=30) and(int(row.God) < 50) :\n",
    "            return \"30-50\"\n",
    "        else:\n",
    "            return \">50\"\n",
    "    except:\n",
    "        return\n",
    "\n",
    "df = pd.read_csv('/home/irma/Dropbox/Documents/Work/Research/Sabina_collab/Video_QoE_Modeling/processed_data/complete/Processed_Video_QoE_Modeling.csv')\n",
    "P1Code = {1: 'Loša', 2: 'Slaba', 3: 'Umjerena', 4: 'Dobra', 5: 'Odlicna'}\n",
    "P234Code = {1: 'uopće se ne slažem', 2: 'ne slažem se', 3: 'nemam mišljenje', 4: 'slažem se', 5: 'potpuno se slažem'}\n",
    "\n",
    "\n",
    "#Looking into the average ratings for three age groups\n",
    "group1 = df.loc[df['God'] < 30] \n",
    "group1mean = group1.mean(axis = 0)\n",
    "group1std = group1.std(axis = 0)\n",
    "print(group1mean.P1, group1std.P1)\n",
    "print(group1mean.P2, group1std.P2)\n",
    "print(group1mean.P3_AVG, group1std.P3_AVG)\n",
    "print(group1mean.P4_AVG, group1std.P4_AVG)\n",
    "print(\"End group 1\")\n",
    "\n",
    "group2 = df.loc[(df['God'] <= 30) & (df['God'] < 50)] \n",
    "group2mean = group2.mean(axis = 0)\n",
    "group2std = group2.std(axis = 0)\n",
    "print(group2mean.P1, group2std.P1)\n",
    "print(group2mean.P2, group2std.P2)\n",
    "print(group2mean.P3_AVG, group2std.P3_AVG)\n",
    "print(group2mean.P4_AVG, group2std.P4_AVG)\n",
    "print(\"End group 3\")\n",
    "\n",
    "group3 = df.loc[df['God'] < 50] \n",
    "group3mean = group3.mean(axis = 0)\n",
    "group3std = group3.std(axis = 0)\n",
    "print(group3mean.P1, group3std.P1)\n",
    "print(group3mean.P2, group3std.P2)\n",
    "print(group3mean.P3_AVG, group3std.P3_AVG)\n",
    "print(group3mean.P4_AVG, group3std.P4_AVG)\n",
    "print(\"End group 3\")\n",
    "N = 3\n",
    "ind = np.arange(N)  # the x locations for the groups\n",
    "width = 0.2       # the width of the bars\n",
    "\n",
    "\n",
    "\n",
    "\n",
    "fig = plt.figure()\n",
    "ax = fig.add_subplot(111)\n",
    "rects1 = ax.bar(ind, [group1mean.P1, group2mean.P1, group3mean.P1], width, yerr = [1,1,1], color='r')\n",
    "rects2 = ax.bar(ind + width, [group1mean.P2, group2mean.P2, group3mean.P2], width, yerr = [1,1,1], color='g')\n",
    "rects3 = ax.bar(ind+2*width, [group1mean.P3_AVG, group2mean.P3_AVG, group3mean.P3_AVG], width, yerr = [1,1,1], color='b')\n",
    "rects4 = ax.bar(ind+width*3, [group1mean.P4_AVG, group2mean.P4_AVG, group3mean.P4_AVG], width, yerr = [1,1,1], color='c')\n",
    "\n",
    "\n",
    "ax.set_ylabel('Avg rating')\n",
    "ax.set_xticks(ind+width)\n",
    "ax.set_xticklabels( ('<30', '30-35', '>50') )\n",
    "ax.legend( (rects1[0], rects2[0], rects3[0], rects4[0]), ('P1', 'P2', 'P3_AVG', 'P4_AVG') )\n",
    "\n",
    "def autolabel(rects):\n",
    "    for rect in rects:\n",
    "        h = rect.get_height()\n",
    "        ax.text(rect.get_x()+rect.get_width()/2., 1.05*h, '%d'%int(h),\n",
    "                ha='center', va='bottom')\n",
    "\n",
    "autolabel(rects1)\n",
    "autolabel(rects2)\n",
    "\n",
    "plt.show()"
   ]
  },
  {
   "cell_type": "markdown",
   "metadata": {},
   "source": [
    "What is noticeable is that there is no observable difference in responses across the age groups. In all age groups P4_AVG seems to be getting a higher rating than other questions."
   ]
  },
  {
   "cell_type": "markdown",
   "metadata": {},
   "source": [
    "# Proportion of interviewees from two genders (female and male) given their previous experience (PrethodnoIskustvo) "
   ]
  },
  {
   "cell_type": "markdown",
   "metadata": {},
   "source": [
    "First we will see what the distributions are on certain attributes. The first plot below shows the distribution of people with previous experience of using streaming data (PrethodnoIskustvo). "
   ]
  },
  {
   "cell_type": "code",
   "execution_count": 8,
   "metadata": {},
   "outputs": [
    {
     "data": {
      "image/png": "[encoded data removed]",
      "text/plain": [
       "<Figure size 482.5x432 with 1 Axes>"
      ]
     },
     "metadata": {
      "needs_background": "light"
     },
     "output_type": "display_data"
    }
   ],
   "source": [
    "import matplotlib.pyplot as plt\n",
    "import numpy as np\n",
    "import seaborn as sns\n",
    "\n",
    "\n",
    "x, y, hue = \"PrethodnoIskustvo\", \"Proportion\", \"NM_Spol\"\n",
    "df2 = df.groupby(['NM_Spol', 'PrethodnoIskustvo']).size().reset_index(name='gender_count')\n",
    "s = df.NM_Spol.value_counts()\n",
    "df2['Proportion'] = df2['gender_count'].div(df2['NM_Spol'].map(s))\n",
    "g = sns.catplot(x=\"PrethodnoIskustvo\", y=\"Proportion\", hue=\"NM_Spol\", data=df2,\n",
    "                height=6, kind=\"bar\", palette=\"muted\")\n"
   ]
  },
  {
   "cell_type": "markdown",
   "metadata": {},
   "source": [
    "We see that the majority of the interviewees fall into level 4 experience (~60% of men and ~49% of women). The second largest group is experience level 6 (11% of men and 27% women)."
   ]
  },
  {
   "cell_type": "markdown",
   "metadata": {},
   "source": [
    "# Relationship between P4_AVG and some other variables"
   ]
  },
  {
   "cell_type": "markdown",
   "metadata": {},
   "source": [
    "## Relationship between P4_AVG and PrethodnoIskustvo"
   ]
  },
  {
   "cell_type": "code",
   "execution_count": 121,
   "metadata": {
    "scrolled": false
   },
   "outputs": [
    {
     "data": {
      "image/png": "[encoded data removed]",
      "text/plain": [
       "<Figure size 432x288 with 1 Axes>"
      ]
     },
     "metadata": {},
     "output_type": "display_data"
    }
   ],
   "source": [
    "import seaborn as sns\n",
    "\n",
    "sns.set(style=\"ticks\", palette=\"pastel\")\n",
    "\n",
    "sns.boxplot(x=\"PrethodnoIskustvo\", y=\"P4_AVG\",\n",
    "            data=df)\n",
    "sns.despine(offset=10, trim=True)"
   ]
  },
  {
   "cell_type": "markdown",
   "metadata": {},
   "source": [
    "It is noticeable that the first group of previous experience (Group 1: \"Jednom mjesečno\") usually gives a lower rating than other groups. (Rating 3 means the person didn't have a particular opinion on some question from group P4). The first two groups don't have as much outliers as groups 3, 4, 5, and 6. This might indicate that people with higher experience are both experienced and didn't have difficulties using the application, but that they also tend to be more critical and give lower extreme lower ratings (hence the outliers). Groups 3, 4 and 6 have very similar responses with group 6 having slightly less variability. "
   ]
  },
  {
   "cell_type": "markdown",
   "metadata": {},
   "source": [
    "## Relationship between P4_AVG and age groups"
   ]
  },
  {
   "cell_type": "code",
   "execution_count": 75,
   "metadata": {},
   "outputs": [
    {
     "data": {
      "image/png": "[encoded data removed]",
      "text/plain": [
       "<Figure size 432x288 with 1 Axes>"
      ]
     },
     "metadata": {},
     "output_type": "display_data"
    }
   ],
   "source": [
    "newDF = pd.DataFrame()\n",
    "bin_labels_3 = ['<25', '25-45', '>45']\n",
    "\n",
    "#binning age into three categories\n",
    "newDF['age'] = pd.cut(df['God'],[0, 25 , 45, 100], labels = bin_labels_3)\n",
    "newDF['P4_AVG'] = df['P4_AVG']\n",
    "\n",
    "#group by age\n",
    "newDF.groupby(\"age\")[\"P4_AVG\"]\n",
    "sns.set(style=\"ticks\", palette=\"pastel\")\n",
    "\n",
    "sns.boxplot(x=\"age\", y=\"P4_AVG\",\n",
    "            data=newDF)\n",
    "sns.despine(offset=10, trim=True)\n",
    "\n",
    "\n"
   ]
  },
  {
   "cell_type": "markdown",
   "metadata": {},
   "source": [
    "The youngest age group seems to be evenly distributed about their rating, but still have quite some outliers. For Age groups 25-45 and >45 even though the median rating is rather high, the distribution is more skewed with the majority rating values falling in the lower tange."
   ]
  },
  {
   "cell_type": "markdown",
   "metadata": {},
   "source": [
    "## Relationship between P4_AVG and emotion"
   ]
  },
  {
   "cell_type": "code",
   "execution_count": 80,
   "metadata": {},
   "outputs": [
    {
     "data": {
      "image/png": "[encoded data removed]",
      "text/plain": [
       "<Figure size 432x288 with 1 Axes>"
      ]
     },
     "metadata": {},
     "output_type": "display_data"
    }
   ],
   "source": [
    "sns.set(style=\"ticks\", palette=\"pastel\")\n",
    "sns.boxplot(x=\"Emocije\", y=\"P4_AVG\",\n",
    "            data=df)\n",
    "sns.despine(offset=10, trim=True)"
   ]
  },
  {
   "cell_type": "code",
   "execution_count": null,
   "metadata": {},
   "outputs": [],
   "source": [
    "It is noticeable that the Emotion 3 (\"Ostalo\") has a rather agreeable result on P4_AVG"
   ]
  },
  {
   "cell_type": "markdown",
   "metadata": {},
   "source": [
    "## Relationship between P4_AVG and Location"
   ]
  },
  {
   "cell_type": "code",
   "execution_count": 82,
   "metadata": {},
   "outputs": [
    {
     "data": {
      "image/png": "[encoded data removed]",
      "text/plain": [
       "<Figure size 432x288 with 1 Axes>"
      ]
     },
     "metadata": {},
     "output_type": "display_data"
    }
   ],
   "source": [
    "sns.set(style=\"ticks\", palette=\"pastel\")\n",
    "sns.boxplot(x=\"Lokacija\", y=\"P4_AVG\",\n",
    "            data=df)\n",
    "sns.despine(offset=10, trim=True)"
   ]
  },
  {
   "cell_type": "markdown",
   "metadata": {},
   "source": [
    "It seems that the location of Hotel (group 4) has on average low P4_AVG rating. Let us see what values other variables have given that the location is a hotel (4)."
   ]
  },
  {
   "cell_type": "code",
   "execution_count": 120,
   "metadata": {},
   "outputs": [
    {
     "data": {
      "image/png": "[encoded data removed]",
      "text/plain": [
       "<Figure size 481.3x432 with 1 Axes>"
      ]
     },
     "metadata": {},
     "output_type": "display_data"
    }
   ],
   "source": [
    "grouped = df.groupby(['Lokacija'])\n",
    "hotel_group = grouped.get_group(4)\n",
    "emotions = hotel_group[\"Emocije\"]\n",
    "guzva = hotel_group['Guzva']\n",
    "buka = hotel_group['Buka']\n",
    "osvjetljeno = hotel_group['Osvjetljeno']\n",
    "sluh = hotel_group['Sluh']\n",
    "bitrate = hotel_group['bitrate']\n",
    "\n",
    "#histogram of emotion vs location\n",
    "x, y,  = \"Emocije\", \"Broj osoba\"\n",
    "df2 = df.groupby(['Lokacija', 'Emocije']).size().reset_index(name='emotion_count')\n",
    "s = np.log(df2.Emocije.value_counts())\n",
    "df2['log(Count)'] = np.log(df2['emotion_count'].div(df2['Emocije'].map(s)))\n",
    "g = sns.catplot(x=\"Lokacija\", y=\"log(Count)\", hue=\"Emocije\", data=df2,\n",
    "                height=6, kind=\"bar\", palette=\"muted\")\n",
    "\n",
    "#histogram of guzva (crowd) vs location\n",
    "x, y,  = \"Emocije\", \"Broj osoba\"\n",
    "df2 = df.groupby(['Lokacija', 'Emocije']).size().reset_index(name='emotion_count')\n",
    "s = np.log(df2.Emocije.value_counts())\n",
    "df2['log(Count)'] = np.log(df2['emotion_count'].div(df2['Emocije'].map(s)))\n",
    "g = sns.catplot(x=\"Lokacija\", y=\"log(Count)\", hue=\"Emocije\", data=df2,\n",
    "                height=6, kind=\"bar\", palette=\"muted\")\n",
    "\n"
   ]
  },
  {
   "cell_type": "markdown",
   "metadata": {},
   "source": [
    "Hotel location (4) has only 15 respondents and all of them marked their emotion as 2 (\"Neraspolozen\"). :D"
   ]
  },
  {
   "cell_type": "code",
   "execution_count": null,
   "metadata": {},
   "outputs": [],
   "source": []
  }
 ],
 "metadata": {
  "kernelspec": {
   "display_name": "Python 3",
   "language": "python",
   "name": "python3"
  },
  "language_info": {
   "codemirror_mode": {
    "name": "ipython",
    "version": 3
   },
   "file_extension": ".py",
   "mimetype": "text/x-python",
   "name": "python",
   "nbconvert_exporter": "python",
   "pygments_lexer": "ipython3",
   "version": "3.6.8"
  }
 },
 "nbformat": 4,
 "nbformat_minor": 2
}
