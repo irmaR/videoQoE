{
 "cells": [
  {
   "cell_type": "markdown",
   "metadata": {},
   "source": [
    "# Loading the data"
   ]
  },
  {
   "cell_type": "code",
   "execution_count": 12,
   "metadata": {},
   "outputs": [
    {
     "data": {
      "text/html": [
       "<div>\n",
       "<style scoped>\n",
       "    .dataframe tbody tr th:only-of-type {\n",
       "        vertical-align: middle;\n",
       "    }\n",
       "\n",
       "    .dataframe tbody tr th {\n",
       "        vertical-align: top;\n",
       "    }\n",
       "\n",
       "    .dataframe thead th {\n",
       "        text-align: right;\n",
       "    }\n",
       "</style>\n",
       "<table border=\"1\" class=\"dataframe\">\n",
       "  <thead>\n",
       "    <tr style=\"text-align: right;\">\n",
       "      <th></th>\n",
       "      <th>Osoba</th>\n",
       "      <th>God</th>\n",
       "      <th>NM_Spol</th>\n",
       "      <th>StepenObrazovanja</th>\n",
       "      <th>PrethodnoIskustvo</th>\n",
       "      <th>Naocale</th>\n",
       "      <th>Sluh</th>\n",
       "      <th>Ruka</th>\n",
       "      <th>Emocije</th>\n",
       "      <th>Lokacija</th>\n",
       "      <th>...</th>\n",
       "      <th>P4.4</th>\n",
       "      <th>P4.5</th>\n",
       "      <th>P4.6</th>\n",
       "      <th>P4.7</th>\n",
       "      <th>P4_AVG</th>\n",
       "      <th>Dan</th>\n",
       "      <th>Mjesec</th>\n",
       "      <th>Godina</th>\n",
       "      <th>Tip_dana</th>\n",
       "      <th>Dio_dana</th>\n",
       "    </tr>\n",
       "  </thead>\n",
       "  <tbody>\n",
       "    <tr>\n",
       "      <td>0</td>\n",
       "      <td>1</td>\n",
       "      <td>48</td>\n",
       "      <td>1</td>\n",
       "      <td>3</td>\n",
       "      <td>4</td>\n",
       "      <td>1</td>\n",
       "      <td>2</td>\n",
       "      <td>2</td>\n",
       "      <td>1</td>\n",
       "      <td>1</td>\n",
       "      <td>...</td>\n",
       "      <td>4</td>\n",
       "      <td>4</td>\n",
       "      <td>5</td>\n",
       "      <td>5.0</td>\n",
       "      <td>4.571429</td>\n",
       "      <td>4</td>\n",
       "      <td>5</td>\n",
       "      <td>2017</td>\n",
       "      <td>weekday</td>\n",
       "      <td>evening</td>\n",
       "    </tr>\n",
       "    <tr>\n",
       "      <td>1</td>\n",
       "      <td>1</td>\n",
       "      <td>48</td>\n",
       "      <td>1</td>\n",
       "      <td>3</td>\n",
       "      <td>4</td>\n",
       "      <td>1</td>\n",
       "      <td>2</td>\n",
       "      <td>2</td>\n",
       "      <td>1</td>\n",
       "      <td>1</td>\n",
       "      <td>...</td>\n",
       "      <td>4</td>\n",
       "      <td>4</td>\n",
       "      <td>5</td>\n",
       "      <td>5.0</td>\n",
       "      <td>4.571429</td>\n",
       "      <td>4</td>\n",
       "      <td>5</td>\n",
       "      <td>2017</td>\n",
       "      <td>weekday</td>\n",
       "      <td>evening</td>\n",
       "    </tr>\n",
       "    <tr>\n",
       "      <td>2</td>\n",
       "      <td>1</td>\n",
       "      <td>48</td>\n",
       "      <td>1</td>\n",
       "      <td>3</td>\n",
       "      <td>4</td>\n",
       "      <td>1</td>\n",
       "      <td>2</td>\n",
       "      <td>2</td>\n",
       "      <td>1</td>\n",
       "      <td>1</td>\n",
       "      <td>...</td>\n",
       "      <td>4</td>\n",
       "      <td>4</td>\n",
       "      <td>5</td>\n",
       "      <td>5.0</td>\n",
       "      <td>4.571429</td>\n",
       "      <td>4</td>\n",
       "      <td>5</td>\n",
       "      <td>2017</td>\n",
       "      <td>weekday</td>\n",
       "      <td>evening</td>\n",
       "    </tr>\n",
       "    <tr>\n",
       "      <td>3</td>\n",
       "      <td>1</td>\n",
       "      <td>48</td>\n",
       "      <td>1</td>\n",
       "      <td>3</td>\n",
       "      <td>4</td>\n",
       "      <td>1</td>\n",
       "      <td>2</td>\n",
       "      <td>2</td>\n",
       "      <td>1</td>\n",
       "      <td>1</td>\n",
       "      <td>...</td>\n",
       "      <td>4</td>\n",
       "      <td>4</td>\n",
       "      <td>5</td>\n",
       "      <td>5.0</td>\n",
       "      <td>4.571429</td>\n",
       "      <td>4</td>\n",
       "      <td>5</td>\n",
       "      <td>2017</td>\n",
       "      <td>weekday</td>\n",
       "      <td>evening</td>\n",
       "    </tr>\n",
       "    <tr>\n",
       "      <td>4</td>\n",
       "      <td>1</td>\n",
       "      <td>48</td>\n",
       "      <td>1</td>\n",
       "      <td>3</td>\n",
       "      <td>4</td>\n",
       "      <td>1</td>\n",
       "      <td>2</td>\n",
       "      <td>2</td>\n",
       "      <td>1</td>\n",
       "      <td>1</td>\n",
       "      <td>...</td>\n",
       "      <td>4</td>\n",
       "      <td>4</td>\n",
       "      <td>5</td>\n",
       "      <td>5.0</td>\n",
       "      <td>4.571429</td>\n",
       "      <td>4</td>\n",
       "      <td>5</td>\n",
       "      <td>2017</td>\n",
       "      <td>weekday</td>\n",
       "      <td>evening</td>\n",
       "    </tr>\n",
       "  </tbody>\n",
       "</table>\n",
       "<p>5 rows × 44 columns</p>\n",
       "</div>"
      ],
      "text/plain": [
       "   Osoba  God  NM_Spol  StepenObrazovanja  PrethodnoIskustvo  Naocale  Sluh  \\\n",
       "0      1   48        1                  3                  4        1     2   \n",
       "1      1   48        1                  3                  4        1     2   \n",
       "2      1   48        1                  3                  4        1     2   \n",
       "3      1   48        1                  3                  4        1     2   \n",
       "4      1   48        1                  3                  4        1     2   \n",
       "\n",
       "   Ruka  Emocije  Lokacija  ...  P4.4  P4.5  P4.6  P4.7    P4_AVG  Dan  \\\n",
       "0     2        1         1  ...     4     4     5   5.0  4.571429    4   \n",
       "1     2        1         1  ...     4     4     5   5.0  4.571429    4   \n",
       "2     2        1         1  ...     4     4     5   5.0  4.571429    4   \n",
       "3     2        1         1  ...     4     4     5   5.0  4.571429    4   \n",
       "4     2        1         1  ...     4     4     5   5.0  4.571429    4   \n",
       "\n",
       "   Mjesec  Godina  Tip_dana  Dio_dana  \n",
       "0       5    2017   weekday   evening  \n",
       "1       5    2017   weekday   evening  \n",
       "2       5    2017   weekday   evening  \n",
       "3       5    2017   weekday   evening  \n",
       "4       5    2017   weekday   evening  \n",
       "\n",
       "[5 rows x 44 columns]"
      ]
     },
     "execution_count": 12,
     "metadata": {},
     "output_type": "execute_result"
    }
   ],
   "source": [
    "import pandas as pd\n",
    "import numpy as np\n",
    "import seaborn as sns\n",
    "import matplotlib.pyplot as plt\n",
    "df = pd.read_csv('./data/Processed_Video_QoE_Modeling.csv')\n",
    "df.head()"
   ]
  },
  {
   "cell_type": "markdown",
   "metadata": {},
   "source": [
    "# Correlation between P1 and all other independent variables"
   ]
  },
  {
   "cell_type": "code",
   "execution_count": 13,
   "metadata": {},
   "outputs": [
    {
     "data": {
      "text/plain": [
       "NM_Spol               0.076524\n",
       "StepenObrazovanja     0.014559\n",
       "PrethodnoIskustvo    -0.053048\n",
       "Naocale              -0.022221\n",
       "Sluh                 -0.008216\n",
       "Ruka                  0.006181\n",
       "Emocije              -0.004234\n",
       "Lokacija             -0.037680\n",
       "Guzva                -0.033604\n",
       "Buka                 -0.025206\n",
       "Osvjetljeno           0.045730\n",
       "Brand                -0.024687\n",
       "Video                 0.237823\n",
       "Rezolucija            0.208614\n",
       "CTU                  -0.100532\n",
       "CRF                  -0.194575\n",
       "bitrate               0.043426\n",
       "QP                   -0.188438\n",
       "velicinaDatotekeMB    0.003924\n",
       "P1                    1.000000\n",
       "Name: P1, dtype: float64"
      ]
     },
     "execution_count": 13,
     "metadata": {},
     "output_type": "execute_result"
    }
   ],
   "source": [
    "df[['NM_Spol', 'StepenObrazovanja', 'PrethodnoIskustvo', 'Naocale', 'Sluh', 'Ruka', 'Emocije', 'Lokacija','Guzva', 'Buka', 'Osvjetljeno', 'Brand', 'Video', 'Rezolucija', \n",
    "    'CTU', 'CRF', 'bitrate', 'QP', 'velicinaDatotekeMB', 'P1']].corr()['P1'][:]\n"
   ]
  },
  {
   "cell_type": "markdown",
   "metadata": {},
   "source": [
    "# Correlation between P2 and all other independent variables"
   ]
  },
  {
   "cell_type": "code",
   "execution_count": 3,
   "metadata": {},
   "outputs": [
    {
     "data": {
      "text/plain": [
       "NM_Spol               0.083192\n",
       "StepenObrazovanja     0.005305\n",
       "PrethodnoIskustvo    -0.113626\n",
       "Naocale              -0.020442\n",
       "Sluh                 -0.008360\n",
       "Ruka                 -0.006290\n",
       "Emocije              -0.006239\n",
       "Lokacija             -0.077119\n",
       "Guzva                -0.095382\n",
       "Buka                 -0.080038\n",
       "Osvjetljeno           0.014363\n",
       "Brand                -0.001478\n",
       "Video                 0.247890\n",
       "Rezolucija            0.159131\n",
       "CTU                  -0.133679\n",
       "CRF                  -0.194192\n",
       "bitrate               0.022641\n",
       "QP                   -0.190089\n",
       "velicinaDatotekeMB   -0.021352\n",
       "P2                    1.000000\n",
       "Name: P2, dtype: float64"
      ]
     },
     "execution_count": 3,
     "metadata": {},
     "output_type": "execute_result"
    }
   ],
   "source": [
    "df[['NM_Spol', 'StepenObrazovanja', 'PrethodnoIskustvo', 'Naocale', 'Sluh', 'Ruka', 'Emocije', 'Lokacija','Guzva', 'Buka', 'Osvjetljeno', 'Brand', 'Video', 'Rezolucija', \n",
    "    'CTU', 'CRF', 'bitrate', 'QP', 'velicinaDatotekeMB', 'P2']].corr()['P2'][:]\n"
   ]
  },
  {
   "cell_type": "markdown",
   "metadata": {},
   "source": [
    "# Correlation between P3_AVG and all other independent variables"
   ]
  },
  {
   "cell_type": "code",
   "execution_count": 4,
   "metadata": {},
   "outputs": [
    {
     "data": {
      "text/plain": [
       "NM_Spol               0.059918\n",
       "StepenObrazovanja     0.007460\n",
       "PrethodnoIskustvo     0.008469\n",
       "Naocale               0.016850\n",
       "Sluh                  0.011790\n",
       "Ruka                 -0.020921\n",
       "Emocije              -0.039533\n",
       "Lokacija              0.020854\n",
       "Guzva                 0.012261\n",
       "Buka                  0.004215\n",
       "Osvjetljeno           0.054343\n",
       "Brand                -0.079811\n",
       "Video                 0.217305\n",
       "Rezolucija            0.285212\n",
       "CTU                  -0.115322\n",
       "CRF                  -0.230597\n",
       "bitrate               0.117366\n",
       "QP                   -0.221190\n",
       "velicinaDatotekeMB    0.075050\n",
       "P3_AVG                1.000000\n",
       "Name: P3_AVG, dtype: float64"
      ]
     },
     "execution_count": 4,
     "metadata": {},
     "output_type": "execute_result"
    }
   ],
   "source": [
    "df[['NM_Spol', 'StepenObrazovanja', 'PrethodnoIskustvo', 'Naocale', 'Sluh', 'Ruka', 'Emocije', 'Lokacija','Guzva', 'Buka', 'Osvjetljeno', 'Brand', 'Video', 'Rezolucija', \n",
    "    'CTU', 'CRF', 'bitrate', 'QP', 'velicinaDatotekeMB', 'P3_AVG']].corr()['P3_AVG'][:]\n"
   ]
  },
  {
   "cell_type": "markdown",
   "metadata": {},
   "source": [
    "# Correlation between P4_AVG and all other independent variables"
   ]
  },
  {
   "cell_type": "code",
   "execution_count": 5,
   "metadata": {},
   "outputs": [
    {
     "data": {
      "text/plain": [
       "P4_AVG                1.000000\n",
       "NM_Spol               0.100039\n",
       "StepenObrazovanja     0.052912\n",
       "PrethodnoIskustvo     0.085693\n",
       "Naocale              -0.022001\n",
       "Sluh                  0.059833\n",
       "Ruka                  0.047149\n",
       "Emocije              -0.146675\n",
       "Lokacija              0.121924\n",
       "Guzva                 0.171040\n",
       "Buka                  0.134980\n",
       "Osvjetljeno           0.270276\n",
       "Brand                -0.065497\n",
       "Video                 0.140247\n",
       "Rezolucija            0.371870\n",
       "CTU                  -0.087996\n",
       "CRF                  -0.030417\n",
       "bitrate               0.116510\n",
       "QP                    0.024882\n",
       "velicinaDatotekeMB    0.112982\n",
       "Name: P4_AVG, dtype: float64"
      ]
     },
     "execution_count": 5,
     "metadata": {},
     "output_type": "execute_result"
    }
   ],
   "source": [
    "df[['P4_AVG', 'NM_Spol', 'StepenObrazovanja', 'PrethodnoIskustvo', 'Naocale', 'Sluh', 'Ruka', 'Emocije', 'Lokacija','Guzva', 'Buka', 'Osvjetljeno', 'Brand', 'Video', 'Rezolucija', \n",
    "    'CTU', 'CRF', 'bitrate', 'QP', 'velicinaDatotekeMB']].corr()['P4_AVG'][:]\n"
   ]
  },
  {
   "cell_type": "markdown",
   "metadata": {},
   "source": []
  },
  {
   "cell_type": "markdown",
   "metadata": {},
   "source": [
    "# Correlation between P3_AVG and P3_1\tP3_2\tP3_3\tP3_4\tP3_5\tP3_6 P3_7"
   ]
  },
  {
   "cell_type": "code",
   "execution_count": 6,
   "metadata": {},
   "outputs": [
    {
     "data": {
      "text/plain": [
       "P3.1      0.869100\n",
       "P3.2      0.865511\n",
       "P3.3      0.870294\n",
       "P3.4      0.802232\n",
       "P3.5      0.818686\n",
       "P3.6      0.869998\n",
       "P3.7      0.803445\n",
       "P3_AVG    1.000000\n",
       "Name: P3_AVG, dtype: float64"
      ]
     },
     "execution_count": 6,
     "metadata": {},
     "output_type": "execute_result"
    }
   ],
   "source": [
    "df[['P3.1', 'P3.2','P3.3', 'P3.4', 'P3.5', 'P3.6', 'P3.7', 'P3_AVG']].corr()['P3_AVG'][:]\n"
   ]
  },
  {
   "cell_type": "markdown",
   "metadata": {},
   "source": [
    "# Correlation between P4_AVG and P4.1\tP4.2\tP4.3\tP4.4\tP4.5\tP4.6\tP4.7\n"
   ]
  },
  {
   "cell_type": "code",
   "execution_count": 7,
   "metadata": {},
   "outputs": [],
   "source": [
    "corr1 = df[['P1', 'P2', 'P3.1', 'P3.2','P3.3', 'P3.4', 'P3.5', 'P3.6', 'P3.7', 'P3_AVG', 'P4.1', 'P4.2','P4.3', 'P4.4', 'P4.5', 'P4.6', 'P4.7', 'P4_AVG']].corr()\n"
   ]
  },
  {
   "cell_type": "markdown",
   "metadata": {},
   "source": [
    "# Heatmap of all responses"
   ]
  },
  {
   "cell_type": "code",
   "execution_count": 8,
   "metadata": {},
   "outputs": [
    {
     "data": {
      "image/png": "[encoded data removed]",
      "text/plain": [
       "<Figure size 1440x720 with 2 Axes>"
      ]
     },
     "metadata": {
      "needs_background": "light"
     },
     "output_type": "display_data"
    }
   ],
   "source": [
    "plt.subplots(figsize=(20,10))\n",
    "\n",
    "ax = sns.heatmap(\n",
    "    corr1, \n",
    "    vmin=-1, vmax=1, center=0,\n",
    "    cmap=sns.diverging_palette(20, 220, n=400),\n",
    "    square=True\n",
    ")\n",
    "ax.set_xticklabels(\n",
    "    ax.get_xticklabels(),\n",
    "    rotation=45,\n",
    "    horizontalalignment='right'\n",
    ");\n"
   ]
  },
  {
   "cell_type": "markdown",
   "metadata": {},
   "source": [
    "## Full heatmap"
   ]
  },
  {
   "cell_type": "code",
   "execution_count": 11,
   "metadata": {},
   "outputs": [
    {
     "data": {
      "image/png": "[encoded data removed]",
      "text/plain": [
       "<Figure size 1440x720 with 2 Axes>"
      ]
     },
     "metadata": {
      "needs_background": "light"
     },
     "output_type": "display_data"
    }
   ],
   "source": [
    "mapping = {\"Rezolucija\": {1: 5, 2: 6, 3:7, 4:1, 5:2, 6:3, 7:4}, 'CRF': { 2:3, 3:5, 4:2, 5:4}}\n",
    "out_df = df.copy()\n",
    "out_df.Rezolucija.map(mapping['Rezolucija'])\n",
    "out_df.CRF.map(mapping['CRF'])\n",
    "df.to_csv('/home/irma/Dropbox/Documents/Work/Research/Sabina_collab/Video_QoE_Modeling/processed_data/Rezolucija_CRF_remapped/Res_CRF_remapped.csv', sep=',')\n",
    "\n",
    "full_corr = out_df[['P1', 'P2', 'P3_AVG', 'P4_AVG', 'NM_Spol', 'God', 'StepenObrazovanja', 'PrethodnoIskustvo', 'Naocale', 'Sluh', 'Ruka', 'Emocije','Guzva','Buka', 'Osvjetljeno', 'Rezolucija', \n",
    "    'CTU', 'CRF', 'bitrate', 'QP', 'velicinaDatotekeMB']].corr()\n",
    "\n",
    "plt.subplots(figsize=(20,10))\n",
    "\n",
    "ax = sns.heatmap(\n",
    "    full_corr, \n",
    "    vmin=-1, vmax=1, center=0,\n",
    "    cmap=sns.diverging_palette(20, 220, n=400),\n",
    "    square=True\n",
    ")\n",
    "ax.set_xticklabels(\n",
    "    ax.get_xticklabels(),\n",
    "    rotation=45,\n",
    "    horizontalalignment='right'\n",
    ");"
   ]
  },
  {
   "cell_type": "markdown",
   "metadata": {},
   "source": [
    "It is visible that there is a strong positive correlation between P1, P2 and P3_AVG questions, while the correlation is weaker between P4_AVG and P1, P2 and P3_AVG. There is also another positive correlation groupation between Crowd (Guzva) and Noise (Buka). There is a stronger negative correlation (~0.4 factor) between Video and Resolution. And finally the groupation of CRF, bitrate, QP and size of the file exhibits strong positive/negative correlations (as is expected since these are the parameters of the questionnaire). There is slight positive correlation between P3_AVG and bitrate and Resolution, and also slight positive correlation between P4_AVG and bitrate, Resolution and Light."
   ]
  },
  {
   "cell_type": "code",
   "execution_count": null,
   "metadata": {},
   "outputs": [],
   "source": []
  }
 ],
 "metadata": {
  "kernelspec": {
   "display_name": "Python 3",
   "language": "python",
   "name": "python3"
  },
  "language_info": {
   "codemirror_mode": {
    "name": "ipython",
    "version": 3
   },
   "file_extension": ".py",
   "mimetype": "text/x-python",
   "name": "python",
   "nbconvert_exporter": "python",
   "pygments_lexer": "ipython3",
   "version": "3.6.8"
  }
 },
 "nbformat": 4,
 "nbformat_minor": 2
}
